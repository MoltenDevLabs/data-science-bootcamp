{
 "cells": [
  {
   "cell_type": "markdown",
   "metadata": {},
   "source": [
    "# PANDAS"
   ]
  },
  {
   "cell_type": "markdown",
   "metadata": {},
   "source": [
    "Pandas es una libreria de Python muy usada en ciencia de datos en combinación con Numpy y Matplotlib.\n",
    "\n",
    "Pandas -> Gestión de datos\n",
    "\n",
    "Numpy -> Operaciones númericas\n",
    "\n",
    "Matplotlib -> Construcción de gráficos"
   ]
  },
  {
   "cell_type": "markdown",
   "metadata": {},
   "source": [
    "instalar: pip install pandas\n",
    "\n",
    "importar: import pandas as pd"
   ]
  },
  {
   "cell_type": "code",
   "execution_count": 89,
   "metadata": {},
   "outputs": [],
   "source": [
    "import pandas as pd\n",
    "import math\n",
    "import numpy as np"
   ]
  },
  {
   "cell_type": "markdown",
   "metadata": {},
   "source": [
    "Series"
   ]
  },
  {
   "cell_type": "code",
   "execution_count": 90,
   "metadata": {},
   "outputs": [],
   "source": [
    "# Creación de las estructuras de datos\n",
    "asig = [\"Matematicas\", \"Historia\", \"Lengua\", \"Filosofia\", \"Dibujo\"]\n",
    "calificaciones = [10, 3, 2, 5, 6]\n",
    "dicc = {\"Matematicas\": 10, \"Historia\": 3, \"Lengua\": 2, \"Filosofia\": 5, \"Dibujo\": 6}\n",
    "\n",
    "# Creación de las series de datos a partir de las estructuras anteriores\n",
    "materias = pd.Series(asig, index = list(range(1,6)), dtype = \"string\")\n",
    "notas = pd.Series(calificaciones, index = list(range(1,6)), dtype = \"int32\")\n",
    "clase = pd.Series(dicc)"
   ]
  },
  {
   "cell_type": "code",
   "execution_count": 91,
   "metadata": {},
   "outputs": [
    {
     "name": "stdout",
     "output_type": "stream",
     "text": [
      "Materias:\n",
      "1    Matematicas\n",
      "2       Historia\n",
      "3         Lengua\n",
      "4      Filosofia\n",
      "5         Dibujo\n",
      "dtype: string\n",
      "Notas:\n",
      "1    10\n",
      "2     3\n",
      "3     2\n",
      "4     5\n",
      "5     6\n",
      "dtype: int32\n",
      "Clase:\n",
      "Matematicas    10\n",
      "Historia        3\n",
      "Lengua          2\n",
      "Filosofia       5\n",
      "Dibujo          6\n",
      "dtype: int64\n"
     ]
    }
   ],
   "source": [
    "# Visualización de las series de datos declaradas en el apartado anterior\n",
    "print(f\"Materias:\\n{materias}\")\n",
    "print(f\"Notas:\\n{notas}\")\n",
    "print(f\"Clase:\\n{clase}\")\n"
   ]
  },
  {
   "cell_type": "code",
   "execution_count": 92,
   "metadata": {},
   "outputs": [
    {
     "name": "stdout",
     "output_type": "stream",
     "text": [
      "Tipo de objeto en pandas: <class 'pandas.core.series.Series'>\n",
      "Tipo de elementos presentes en la serie: string\n",
      "Cantidad de elementos presentes en la serie: 5\n",
      "Cantidad de elementos presentes en la serie: Index([1, 2, 3, 4, 5], dtype='int64')\n"
     ]
    }
   ],
   "source": [
    "# Ejemplos de informacion usados sobre series de datos\n",
    "print(f\"Tipo de objeto en pandas: {type(materias)}\")\n",
    "print(f\"Tipo de elementos presentes en la serie: {materias.dtype}\")\n",
    "print(f\"Cantidad de elementos presentes en la serie: {materias.size}\")\n",
    "print(f\"Cantidad de elementos presentes en la serie: {materias.index}\")"
   ]
  },
  {
   "cell_type": "code",
   "execution_count": 93,
   "metadata": {},
   "outputs": [
    {
     "name": "stdout",
     "output_type": "stream",
     "text": [
      "Contaje de los elementos de la serie: 5.00\n",
      "Suma de todos los elementos de la serie: 26.00\n",
      "Suma acumulada de los elementos de la serie: 1    10\n",
      "2    13\n",
      "3    15\n",
      "4    20\n",
      "5    26\n",
      "dtype: int64\n",
      "Minimo de todos los elementos de la serie: 2.00\n",
      "Maximo de todos los elementos de la serie: 10.00\n",
      "Desviación tipica de todos los elementos de la serie: 3.11\n",
      "Varianza de todos los elementos de la serie: 9.70\n",
      "Media de todos los elementos de la serie: 5.20\n",
      "Descripción estadistica de los datos de la serie: count     5.000000\n",
      "mean      5.200000\n",
      "std       3.114482\n",
      "min       2.000000\n",
      "25%       3.000000\n",
      "50%       5.000000\n",
      "75%       6.000000\n",
      "max      10.000000\n",
      "dtype: float64\n"
     ]
    }
   ],
   "source": [
    "# Ejemplos de metodos usados sobre series de datos\n",
    "print(f\"Contaje de los elementos de la serie: {notas.count():.2f}\")\n",
    "print(f\"Suma de todos los elementos de la serie: {notas.sum():.2f}\")\n",
    "print(f\"Suma acumulada de los elementos de la serie: {notas.cumsum()}\")\n",
    "print(f\"Minimo de todos los elementos de la serie: {notas.min():.2f}\")\n",
    "print(f\"Maximo de todos los elementos de la serie: {notas.max():.2f}\")\n",
    "print(f\"Desviación tipica de todos los elementos de la serie: {notas.std():.2f}\")\n",
    "print(f\"Varianza de todos los elementos de la serie: {notas.var():.2f}\")\n",
    "print(f\"Media de todos los elementos de la serie: {notas.mean():.2f}\")\n",
    "print(f\"Descripción estadistica de los datos de la serie: {notas.describe()}\")"
   ]
  },
  {
   "cell_type": "code",
   "execution_count": 94,
   "metadata": {},
   "outputs": [
    {
     "name": "stdout",
     "output_type": "stream",
     "text": [
      "Multiplicación de los elementos de la serie por un número: 1    8.0\n",
      "2    2.4\n",
      "3    1.6\n",
      "4    4.0\n",
      "5    4.8\n",
      "dtype: float64\n",
      "Aplicar una función sobre los elementos de la serie: 1    2.302585\n",
      "2    1.098612\n",
      "3    0.693147\n",
      "4    1.609438\n",
      "5    1.791759\n",
      "dtype: float64\n"
     ]
    }
   ],
   "source": [
    "# También se puede operar sobre una serie\n",
    "print(f\"Multiplicación de los elementos de la serie por un número: {notas*0.8}\")\n",
    "print(f\"Aplicar una función sobre los elementos de la serie: {notas.apply(math.log)}\")"
   ]
  },
  {
   "cell_type": "code",
   "execution_count": 95,
   "metadata": {},
   "outputs": [
    {
     "name": "stdout",
     "output_type": "stream",
     "text": [
      "Ordenar una serie por valores:\n",
      "Lengua          2\n",
      "Historia        3\n",
      "Filosofia       5\n",
      "Dibujo          6\n",
      "Matematicas    10\n",
      "dtype: int64\n",
      "Ordenar una serie por indices:\n",
      "Matematicas    10\n",
      "Lengua          2\n",
      "Historia        3\n",
      "Filosofia       5\n",
      "Dibujo          6\n",
      "dtype: int64\n"
     ]
    }
   ],
   "source": [
    "# Ordenar los valores con el metodo sort\n",
    "print(f\"Ordenar una serie por valores:\\n{clase.sort_values(ascending=True)}\")\n",
    "print(f\"Ordenar una serie por indices:\\n{clase.sort_index(ascending=False)}\")"
   ]
  },
  {
   "cell_type": "code",
   "execution_count": 96,
   "metadata": {},
   "outputs": [
    {
     "data": {
      "text/plain": [
       "Matematicas    10.0\n",
       "Historia        3.0\n",
       "Lengua          2.0\n",
       "Filosofia       5.0\n",
       "Dibujo          6.0\n",
       "Biologia        NaN\n",
       "dtype: float64"
      ]
     },
     "execution_count": 96,
     "metadata": {},
     "output_type": "execute_result"
    }
   ],
   "source": [
    "# Creamos un nuevo diccionario y su serie con pandas\n",
    "dicc2 = {\"Matematicas\": 10, \"Historia\": 3, \"Lengua\": 2, \"Filosofia\": 5, \"Dibujo\": 6, \"Biologia\": None}\n",
    "clase2 = pd.Series(dicc2)\n",
    "clase2"
   ]
  },
  {
   "cell_type": "code",
   "execution_count": 97,
   "metadata": {},
   "outputs": [
    {
     "data": {
      "text/plain": [
       "Matematicas    10.0\n",
       "Historia        3.0\n",
       "Lengua          2.0\n",
       "Filosofia       5.0\n",
       "Dibujo          6.0\n",
       "dtype: float64"
      ]
     },
     "execution_count": 97,
     "metadata": {},
     "output_type": "execute_result"
    }
   ],
   "source": [
    "clase2.dropna() # Elimina el Nan"
   ]
  },
  {
   "cell_type": "markdown",
   "metadata": {},
   "source": [
    "### DataFrames"
   ]
  },
  {
   "cell_type": "code",
   "execution_count": 98,
   "metadata": {},
   "outputs": [],
   "source": [
    "nomCol = [\"Nombre\", \"Altura\", \"Peso\"] # Tilulos de las columnas\n",
    "nomInd = [\"Suj1\", \"Suj2\", \"Suj3\", \"Suj4\"] # Titulos de las filas o indices\n",
    "datos = {\n",
    "  \"nom\": [\"Alberto\", \"Maria\", \"Mercedes\", \"Lorena\"],\n",
    "  \"alt\": [1.80, 1.50, 1.65, 1.72],\n",
    "  \"pes\": [80, 72, 45, 66]\n",
    "}"
   ]
  },
  {
   "cell_type": "code",
   "execution_count": 99,
   "metadata": {},
   "outputs": [
    {
     "data": {
      "text/html": [
       "<div>\n",
       "<style scoped>\n",
       "    .dataframe tbody tr th:only-of-type {\n",
       "        vertical-align: middle;\n",
       "    }\n",
       "\n",
       "    .dataframe tbody tr th {\n",
       "        vertical-align: top;\n",
       "    }\n",
       "\n",
       "    .dataframe thead th {\n",
       "        text-align: right;\n",
       "    }\n",
       "</style>\n",
       "<table border=\"1\" class=\"dataframe\">\n",
       "  <thead>\n",
       "    <tr style=\"text-align: right;\">\n",
       "      <th></th>\n",
       "      <th>nom</th>\n",
       "      <th>alt</th>\n",
       "      <th>pes</th>\n",
       "    </tr>\n",
       "  </thead>\n",
       "  <tbody>\n",
       "    <tr>\n",
       "      <th>0</th>\n",
       "      <td>Alberto</td>\n",
       "      <td>1.80</td>\n",
       "      <td>80</td>\n",
       "    </tr>\n",
       "    <tr>\n",
       "      <th>1</th>\n",
       "      <td>Maria</td>\n",
       "      <td>1.50</td>\n",
       "      <td>72</td>\n",
       "    </tr>\n",
       "    <tr>\n",
       "      <th>2</th>\n",
       "      <td>Mercedes</td>\n",
       "      <td>1.65</td>\n",
       "      <td>45</td>\n",
       "    </tr>\n",
       "    <tr>\n",
       "      <th>3</th>\n",
       "      <td>Lorena</td>\n",
       "      <td>1.72</td>\n",
       "      <td>66</td>\n",
       "    </tr>\n",
       "  </tbody>\n",
       "</table>\n",
       "</div>"
      ],
      "text/plain": [
       "        nom   alt  pes\n",
       "0   Alberto  1.80   80\n",
       "1     Maria  1.50   72\n",
       "2  Mercedes  1.65   45\n",
       "3    Lorena  1.72   66"
      ]
     },
     "execution_count": 99,
     "metadata": {},
     "output_type": "execute_result"
    }
   ],
   "source": [
    "# Creamos el dataframe 'df' a partir de los datos anteriores\n",
    "df = pd.DataFrame(datos)\n",
    "df"
   ]
  },
  {
   "cell_type": "code",
   "execution_count": 100,
   "metadata": {},
   "outputs": [
    {
     "data": {
      "text/html": [
       "<div>\n",
       "<style scoped>\n",
       "    .dataframe tbody tr th:only-of-type {\n",
       "        vertical-align: middle;\n",
       "    }\n",
       "\n",
       "    .dataframe tbody tr th {\n",
       "        vertical-align: top;\n",
       "    }\n",
       "\n",
       "    .dataframe thead th {\n",
       "        text-align: right;\n",
       "    }\n",
       "</style>\n",
       "<table border=\"1\" class=\"dataframe\">\n",
       "  <thead>\n",
       "    <tr style=\"text-align: right;\">\n",
       "      <th></th>\n",
       "      <th>Nombre</th>\n",
       "      <th>Altura</th>\n",
       "      <th>Peso</th>\n",
       "    </tr>\n",
       "  </thead>\n",
       "  <tbody>\n",
       "    <tr>\n",
       "      <th>Suj1</th>\n",
       "      <td>Alberto</td>\n",
       "      <td>1.80</td>\n",
       "      <td>80</td>\n",
       "    </tr>\n",
       "    <tr>\n",
       "      <th>Suj2</th>\n",
       "      <td>Maria</td>\n",
       "      <td>1.50</td>\n",
       "      <td>72</td>\n",
       "    </tr>\n",
       "    <tr>\n",
       "      <th>Suj3</th>\n",
       "      <td>Mercedes</td>\n",
       "      <td>1.65</td>\n",
       "      <td>45</td>\n",
       "    </tr>\n",
       "    <tr>\n",
       "      <th>Suj4</th>\n",
       "      <td>Lorena</td>\n",
       "      <td>1.72</td>\n",
       "      <td>66</td>\n",
       "    </tr>\n",
       "  </tbody>\n",
       "</table>\n",
       "</div>"
      ],
      "text/plain": [
       "        Nombre  Altura  Peso\n",
       "Suj1   Alberto    1.80    80\n",
       "Suj2     Maria    1.50    72\n",
       "Suj3  Mercedes    1.65    45\n",
       "Suj4    Lorena    1.72    66"
      ]
     },
     "execution_count": 100,
     "metadata": {},
     "output_type": "execute_result"
    }
   ],
   "source": [
    "# Definimos titulos para las columnas y para las filas\n",
    "df.columns = nomCol # Cambiar el titulo de las columnas\n",
    "df.index = nomInd # Cambiar el titulo de las filas\n",
    "df"
   ]
  },
  {
   "cell_type": "code",
   "execution_count": 101,
   "metadata": {},
   "outputs": [
    {
     "name": "stdout",
     "output_type": "stream",
     "text": [
      "<class 'pandas.core.frame.DataFrame'>\n",
      "Index: 4 entries, Suj1 to Suj4\n",
      "Data columns (total 3 columns):\n",
      " #   Column  Non-Null Count  Dtype  \n",
      "---  ------  --------------  -----  \n",
      " 0   Nombre  4 non-null      object \n",
      " 1   Altura  4 non-null      float64\n",
      " 2   Peso    4 non-null      int64  \n",
      "dtypes: float64(1), int64(1), object(1)\n",
      "memory usage: 128.0+ bytes\n"
     ]
    }
   ],
   "source": [
    "df.info() # Información general del dataframe"
   ]
  },
  {
   "cell_type": "code",
   "execution_count": 102,
   "metadata": {},
   "outputs": [
    {
     "data": {
      "text/plain": [
       "12"
      ]
     },
     "execution_count": 102,
     "metadata": {},
     "output_type": "execute_result"
    }
   ],
   "source": [
    "df.size # Numero de datos (filas * columnas)"
   ]
  },
  {
   "cell_type": "code",
   "execution_count": 103,
   "metadata": {},
   "outputs": [
    {
     "data": {
      "text/html": [
       "<div>\n",
       "<style scoped>\n",
       "    .dataframe tbody tr th:only-of-type {\n",
       "        vertical-align: middle;\n",
       "    }\n",
       "\n",
       "    .dataframe tbody tr th {\n",
       "        vertical-align: top;\n",
       "    }\n",
       "\n",
       "    .dataframe thead th {\n",
       "        text-align: right;\n",
       "    }\n",
       "</style>\n",
       "<table border=\"1\" class=\"dataframe\">\n",
       "  <thead>\n",
       "    <tr style=\"text-align: right;\">\n",
       "      <th></th>\n",
       "      <th>Nombre</th>\n",
       "      <th>Altura</th>\n",
       "      <th>Peso</th>\n",
       "    </tr>\n",
       "  </thead>\n",
       "  <tbody>\n",
       "    <tr>\n",
       "      <th>Suj1</th>\n",
       "      <td>Alberto</td>\n",
       "      <td>1.8</td>\n",
       "      <td>80</td>\n",
       "    </tr>\n",
       "    <tr>\n",
       "      <th>Suj2</th>\n",
       "      <td>Maria</td>\n",
       "      <td>1.5</td>\n",
       "      <td>72</td>\n",
       "    </tr>\n",
       "  </tbody>\n",
       "</table>\n",
       "</div>"
      ],
      "text/plain": [
       "       Nombre  Altura  Peso\n",
       "Suj1  Alberto     1.8    80\n",
       "Suj2    Maria     1.5    72"
      ]
     },
     "execution_count": 103,
     "metadata": {},
     "output_type": "execute_result"
    }
   ],
   "source": [
    "df.head(2)  # Datos de las 2 primeras filas"
   ]
  },
  {
   "cell_type": "code",
   "execution_count": 104,
   "metadata": {},
   "outputs": [
    {
     "data": {
      "text/html": [
       "<div>\n",
       "<style scoped>\n",
       "    .dataframe tbody tr th:only-of-type {\n",
       "        vertical-align: middle;\n",
       "    }\n",
       "\n",
       "    .dataframe tbody tr th {\n",
       "        vertical-align: top;\n",
       "    }\n",
       "\n",
       "    .dataframe thead th {\n",
       "        text-align: right;\n",
       "    }\n",
       "</style>\n",
       "<table border=\"1\" class=\"dataframe\">\n",
       "  <thead>\n",
       "    <tr style=\"text-align: right;\">\n",
       "      <th></th>\n",
       "      <th>Nombre</th>\n",
       "      <th>Altura</th>\n",
       "      <th>Peso</th>\n",
       "    </tr>\n",
       "  </thead>\n",
       "  <tbody>\n",
       "    <tr>\n",
       "      <th>Suj3</th>\n",
       "      <td>Mercedes</td>\n",
       "      <td>1.65</td>\n",
       "      <td>45</td>\n",
       "    </tr>\n",
       "    <tr>\n",
       "      <th>Suj4</th>\n",
       "      <td>Lorena</td>\n",
       "      <td>1.72</td>\n",
       "      <td>66</td>\n",
       "    </tr>\n",
       "  </tbody>\n",
       "</table>\n",
       "</div>"
      ],
      "text/plain": [
       "        Nombre  Altura  Peso\n",
       "Suj3  Mercedes    1.65    45\n",
       "Suj4    Lorena    1.72    66"
      ]
     },
     "execution_count": 104,
     "metadata": {},
     "output_type": "execute_result"
    }
   ],
   "source": [
    "df.tail(2)  # Datos de las 2 ultimas filas"
   ]
  },
  {
   "cell_type": "code",
   "execution_count": 105,
   "metadata": {},
   "outputs": [
    {
     "data": {
      "text/html": [
       "<div>\n",
       "<style scoped>\n",
       "    .dataframe tbody tr th:only-of-type {\n",
       "        vertical-align: middle;\n",
       "    }\n",
       "\n",
       "    .dataframe tbody tr th {\n",
       "        vertical-align: top;\n",
       "    }\n",
       "\n",
       "    .dataframe thead th {\n",
       "        text-align: right;\n",
       "    }\n",
       "</style>\n",
       "<table border=\"1\" class=\"dataframe\">\n",
       "  <thead>\n",
       "    <tr style=\"text-align: right;\">\n",
       "      <th></th>\n",
       "      <th>Nombre</th>\n",
       "      <th>Altura</th>\n",
       "    </tr>\n",
       "  </thead>\n",
       "  <tbody>\n",
       "    <tr>\n",
       "      <th>Suj1</th>\n",
       "      <td>Alberto</td>\n",
       "      <td>1.8</td>\n",
       "    </tr>\n",
       "    <tr>\n",
       "      <th>Suj2</th>\n",
       "      <td>Maria</td>\n",
       "      <td>1.5</td>\n",
       "    </tr>\n",
       "  </tbody>\n",
       "</table>\n",
       "</div>"
      ],
      "text/plain": [
       "       Nombre  Altura\n",
       "Suj1  Alberto     1.8\n",
       "Suj2    Maria     1.5"
      ]
     },
     "execution_count": 105,
     "metadata": {},
     "output_type": "execute_result"
    }
   ],
   "source": [
    "df.iloc[:2, :2] # Acceder a ciertos valores de la tabla marcando unos rangos [indices, filas]"
   ]
  },
  {
   "cell_type": "code",
   "execution_count": 106,
   "metadata": {},
   "outputs": [
    {
     "data": {
      "text/plain": [
       "Suj1    1.80\n",
       "Suj2    1.50\n",
       "Suj3    1.65\n",
       "Suj4    1.72\n",
       "Name: Altura, dtype: float64"
      ]
     },
     "execution_count": 106,
     "metadata": {},
     "output_type": "execute_result"
    }
   ],
   "source": [
    "df[\"Altura\"] # Acceder a los valores de una variable"
   ]
  },
  {
   "cell_type": "code",
   "execution_count": 107,
   "metadata": {},
   "outputs": [
    {
     "data": {
      "text/plain": [
       "Index([0, 1, 2, 3], dtype='int64')"
      ]
     },
     "execution_count": 107,
     "metadata": {},
     "output_type": "execute_result"
    }
   ],
   "source": [
    "df.index = [0,1,2,3]\n",
    "df.index"
   ]
  },
  {
   "cell_type": "code",
   "execution_count": 108,
   "metadata": {},
   "outputs": [
    {
     "data": {
      "text/plain": [
       "0    False\n",
       "1     True\n",
       "2    False\n",
       "3    False\n",
       "dtype: bool"
      ]
     },
     "execution_count": 108,
     "metadata": {},
     "output_type": "execute_result"
    }
   ],
   "source": [
    "coef = pd.Series([False, True, False, False], dtype=bool) # Creamos una nueva serie con valores booleanos\n",
    "coef"
   ]
  },
  {
   "cell_type": "code",
   "execution_count": 109,
   "metadata": {},
   "outputs": [
    {
     "data": {
      "text/html": [
       "<div>\n",
       "<style scoped>\n",
       "    .dataframe tbody tr th:only-of-type {\n",
       "        vertical-align: middle;\n",
       "    }\n",
       "\n",
       "    .dataframe tbody tr th {\n",
       "        vertical-align: top;\n",
       "    }\n",
       "\n",
       "    .dataframe thead th {\n",
       "        text-align: right;\n",
       "    }\n",
       "</style>\n",
       "<table border=\"1\" class=\"dataframe\">\n",
       "  <thead>\n",
       "    <tr style=\"text-align: right;\">\n",
       "      <th></th>\n",
       "      <th>Nombre</th>\n",
       "      <th>Altura</th>\n",
       "      <th>Peso</th>\n",
       "      <th>IMC</th>\n",
       "    </tr>\n",
       "  </thead>\n",
       "  <tbody>\n",
       "    <tr>\n",
       "      <th>0</th>\n",
       "      <td>Alberto</td>\n",
       "      <td>1.80</td>\n",
       "      <td>80</td>\n",
       "      <td>False</td>\n",
       "    </tr>\n",
       "    <tr>\n",
       "      <th>1</th>\n",
       "      <td>Maria</td>\n",
       "      <td>1.50</td>\n",
       "      <td>72</td>\n",
       "      <td>True</td>\n",
       "    </tr>\n",
       "    <tr>\n",
       "      <th>2</th>\n",
       "      <td>Mercedes</td>\n",
       "      <td>1.65</td>\n",
       "      <td>45</td>\n",
       "      <td>False</td>\n",
       "    </tr>\n",
       "    <tr>\n",
       "      <th>3</th>\n",
       "      <td>Lorena</td>\n",
       "      <td>1.72</td>\n",
       "      <td>66</td>\n",
       "      <td>False</td>\n",
       "    </tr>\n",
       "  </tbody>\n",
       "</table>\n",
       "</div>"
      ],
      "text/plain": [
       "     Nombre  Altura  Peso    IMC\n",
       "0   Alberto    1.80    80  False\n",
       "1     Maria    1.50    72   True\n",
       "2  Mercedes    1.65    45  False\n",
       "3    Lorena    1.72    66  False"
      ]
     },
     "execution_count": 109,
     "metadata": {},
     "output_type": "execute_result"
    }
   ],
   "source": [
    "df[\"IMC\"] = coef  # Añadimos una columna al dataframe\n",
    "df"
   ]
  },
  {
   "cell_type": "code",
   "execution_count": 110,
   "metadata": {},
   "outputs": [
    {
     "data": {
      "text/html": [
       "<div>\n",
       "<style scoped>\n",
       "    .dataframe tbody tr th:only-of-type {\n",
       "        vertical-align: middle;\n",
       "    }\n",
       "\n",
       "    .dataframe tbody tr th {\n",
       "        vertical-align: top;\n",
       "    }\n",
       "\n",
       "    .dataframe thead th {\n",
       "        text-align: right;\n",
       "    }\n",
       "</style>\n",
       "<table border=\"1\" class=\"dataframe\">\n",
       "  <thead>\n",
       "    <tr style=\"text-align: right;\">\n",
       "      <th></th>\n",
       "      <th>Nombre</th>\n",
       "      <th>Altura</th>\n",
       "      <th>Peso</th>\n",
       "      <th>IMC</th>\n",
       "    </tr>\n",
       "  </thead>\n",
       "  <tbody>\n",
       "    <tr>\n",
       "      <th>0</th>\n",
       "      <td>Alberto</td>\n",
       "      <td>1.80</td>\n",
       "      <td>80</td>\n",
       "      <td>24.691358</td>\n",
       "    </tr>\n",
       "    <tr>\n",
       "      <th>1</th>\n",
       "      <td>Maria</td>\n",
       "      <td>1.50</td>\n",
       "      <td>72</td>\n",
       "      <td>32.000000</td>\n",
       "    </tr>\n",
       "    <tr>\n",
       "      <th>2</th>\n",
       "      <td>Mercedes</td>\n",
       "      <td>1.65</td>\n",
       "      <td>45</td>\n",
       "      <td>16.528926</td>\n",
       "    </tr>\n",
       "    <tr>\n",
       "      <th>3</th>\n",
       "      <td>Lorena</td>\n",
       "      <td>1.72</td>\n",
       "      <td>66</td>\n",
       "      <td>22.309356</td>\n",
       "    </tr>\n",
       "  </tbody>\n",
       "</table>\n",
       "</div>"
      ],
      "text/plain": [
       "     Nombre  Altura  Peso        IMC\n",
       "0   Alberto    1.80    80  24.691358\n",
       "1     Maria    1.50    72  32.000000\n",
       "2  Mercedes    1.65    45  16.528926\n",
       "3    Lorena    1.72    66  22.309356"
      ]
     },
     "execution_count": 110,
     "metadata": {},
     "output_type": "execute_result"
    }
   ],
   "source": [
    "df[\"IMC\"] = df[\"Peso\"] / df[\"Altura\"]**2  # Añadimos una nueva columna \"IMC\", que es resultado de operar con otras variables\n",
    "df"
   ]
  },
  {
   "cell_type": "code",
   "execution_count": 111,
   "metadata": {},
   "outputs": [
    {
     "data": {
      "text/html": [
       "<div>\n",
       "<style scoped>\n",
       "    .dataframe tbody tr th:only-of-type {\n",
       "        vertical-align: middle;\n",
       "    }\n",
       "\n",
       "    .dataframe tbody tr th {\n",
       "        vertical-align: top;\n",
       "    }\n",
       "\n",
       "    .dataframe thead th {\n",
       "        text-align: right;\n",
       "    }\n",
       "</style>\n",
       "<table border=\"1\" class=\"dataframe\">\n",
       "  <thead>\n",
       "    <tr style=\"text-align: right;\">\n",
       "      <th></th>\n",
       "      <th>Nombre</th>\n",
       "      <th>Altura</th>\n",
       "      <th>Peso</th>\n",
       "      <th>IMC</th>\n",
       "      <th>Sobreperso</th>\n",
       "    </tr>\n",
       "  </thead>\n",
       "  <tbody>\n",
       "    <tr>\n",
       "      <th>0</th>\n",
       "      <td>Alberto</td>\n",
       "      <td>1.80</td>\n",
       "      <td>80</td>\n",
       "      <td>24.691358</td>\n",
       "      <td>False</td>\n",
       "    </tr>\n",
       "    <tr>\n",
       "      <th>1</th>\n",
       "      <td>Maria</td>\n",
       "      <td>1.50</td>\n",
       "      <td>72</td>\n",
       "      <td>32.000000</td>\n",
       "      <td>True</td>\n",
       "    </tr>\n",
       "    <tr>\n",
       "      <th>2</th>\n",
       "      <td>Mercedes</td>\n",
       "      <td>1.65</td>\n",
       "      <td>45</td>\n",
       "      <td>16.528926</td>\n",
       "      <td>False</td>\n",
       "    </tr>\n",
       "    <tr>\n",
       "      <th>3</th>\n",
       "      <td>Lorena</td>\n",
       "      <td>1.72</td>\n",
       "      <td>66</td>\n",
       "      <td>22.309356</td>\n",
       "      <td>False</td>\n",
       "    </tr>\n",
       "  </tbody>\n",
       "</table>\n",
       "</div>"
      ],
      "text/plain": [
       "     Nombre  Altura  Peso        IMC  Sobreperso\n",
       "0   Alberto    1.80    80  24.691358       False\n",
       "1     Maria    1.50    72  32.000000        True\n",
       "2  Mercedes    1.65    45  16.528926       False\n",
       "3    Lorena    1.72    66  22.309356       False"
      ]
     },
     "execution_count": 111,
     "metadata": {},
     "output_type": "execute_result"
    }
   ],
   "source": [
    "df[\"Sobreperso\"] = df[\"IMC\"] >= 25  # Añadimos una nueva columna \"Sobrepeso\" con los valores de en funcion de otra variable\n",
    "df"
   ]
  },
  {
   "cell_type": "code",
   "execution_count": 112,
   "metadata": {},
   "outputs": [
    {
     "data": {
      "text/html": [
       "<div>\n",
       "<style scoped>\n",
       "    .dataframe tbody tr th:only-of-type {\n",
       "        vertical-align: middle;\n",
       "    }\n",
       "\n",
       "    .dataframe tbody tr th {\n",
       "        vertical-align: top;\n",
       "    }\n",
       "\n",
       "    .dataframe thead th {\n",
       "        text-align: right;\n",
       "    }\n",
       "</style>\n",
       "<table border=\"1\" class=\"dataframe\">\n",
       "  <thead>\n",
       "    <tr style=\"text-align: right;\">\n",
       "      <th></th>\n",
       "      <th>Nombre</th>\n",
       "      <th>Altura</th>\n",
       "      <th>Peso</th>\n",
       "      <th>IMC</th>\n",
       "      <th>Sobreperso</th>\n",
       "      <th>logIMC</th>\n",
       "    </tr>\n",
       "  </thead>\n",
       "  <tbody>\n",
       "    <tr>\n",
       "      <th>0</th>\n",
       "      <td>Alberto</td>\n",
       "      <td>1.80</td>\n",
       "      <td>80</td>\n",
       "      <td>24.691358</td>\n",
       "      <td>False</td>\n",
       "      <td>3.206453</td>\n",
       "    </tr>\n",
       "    <tr>\n",
       "      <th>1</th>\n",
       "      <td>Maria</td>\n",
       "      <td>1.50</td>\n",
       "      <td>72</td>\n",
       "      <td>32.000000</td>\n",
       "      <td>True</td>\n",
       "      <td>3.465736</td>\n",
       "    </tr>\n",
       "    <tr>\n",
       "      <th>2</th>\n",
       "      <td>Mercedes</td>\n",
       "      <td>1.65</td>\n",
       "      <td>45</td>\n",
       "      <td>16.528926</td>\n",
       "      <td>False</td>\n",
       "      <td>2.805112</td>\n",
       "    </tr>\n",
       "    <tr>\n",
       "      <th>3</th>\n",
       "      <td>Lorena</td>\n",
       "      <td>1.72</td>\n",
       "      <td>66</td>\n",
       "      <td>22.309356</td>\n",
       "      <td>False</td>\n",
       "      <td>3.105006</td>\n",
       "    </tr>\n",
       "  </tbody>\n",
       "</table>\n",
       "</div>"
      ],
      "text/plain": [
       "     Nombre  Altura  Peso        IMC  Sobreperso    logIMC\n",
       "0   Alberto    1.80    80  24.691358       False  3.206453\n",
       "1     Maria    1.50    72  32.000000        True  3.465736\n",
       "2  Mercedes    1.65    45  16.528926       False  2.805112\n",
       "3    Lorena    1.72    66  22.309356       False  3.105006"
      ]
     },
     "execution_count": 112,
     "metadata": {},
     "output_type": "execute_result"
    }
   ],
   "source": [
    "df[\"logIMC\"] = df[\"IMC\"].apply(math.log)  # Añadimos una nueva columna \"logIMC\" con los valores resultantes de aplicar una función en los valores de otra columna\n",
    "df"
   ]
  },
  {
   "cell_type": "code",
   "execution_count": 113,
   "metadata": {},
   "outputs": [
    {
     "data": {
      "text/html": [
       "<div>\n",
       "<style scoped>\n",
       "    .dataframe tbody tr th:only-of-type {\n",
       "        vertical-align: middle;\n",
       "    }\n",
       "\n",
       "    .dataframe tbody tr th {\n",
       "        vertical-align: top;\n",
       "    }\n",
       "\n",
       "    .dataframe thead th {\n",
       "        text-align: right;\n",
       "    }\n",
       "</style>\n",
       "<table border=\"1\" class=\"dataframe\">\n",
       "  <thead>\n",
       "    <tr style=\"text-align: right;\">\n",
       "      <th></th>\n",
       "      <th>Nombre</th>\n",
       "      <th>Altura</th>\n",
       "      <th>Peso</th>\n",
       "      <th>IMC</th>\n",
       "      <th>Sobreperso</th>\n",
       "      <th>logIMC</th>\n",
       "    </tr>\n",
       "  </thead>\n",
       "  <tbody>\n",
       "    <tr>\n",
       "      <th>0</th>\n",
       "      <td>NaN</td>\n",
       "      <td>NaN</td>\n",
       "      <td>80</td>\n",
       "      <td>24.691358</td>\n",
       "      <td>False</td>\n",
       "      <td>3.206453</td>\n",
       "    </tr>\n",
       "    <tr>\n",
       "      <th>1</th>\n",
       "      <td>Maria</td>\n",
       "      <td>1.50</td>\n",
       "      <td>72</td>\n",
       "      <td>32.000000</td>\n",
       "      <td>True</td>\n",
       "      <td>3.465736</td>\n",
       "    </tr>\n",
       "    <tr>\n",
       "      <th>2</th>\n",
       "      <td>Mercedes</td>\n",
       "      <td>1.65</td>\n",
       "      <td>45</td>\n",
       "      <td>16.528926</td>\n",
       "      <td>False</td>\n",
       "      <td>2.805112</td>\n",
       "    </tr>\n",
       "    <tr>\n",
       "      <th>3</th>\n",
       "      <td>Lorena</td>\n",
       "      <td>1.72</td>\n",
       "      <td>66</td>\n",
       "      <td>22.309356</td>\n",
       "      <td>False</td>\n",
       "      <td>3.105006</td>\n",
       "    </tr>\n",
       "  </tbody>\n",
       "</table>\n",
       "</div>"
      ],
      "text/plain": [
       "     Nombre  Altura  Peso        IMC  Sobreperso    logIMC\n",
       "0       NaN     NaN    80  24.691358       False  3.206453\n",
       "1     Maria    1.50    72  32.000000        True  3.465736\n",
       "2  Mercedes    1.65    45  16.528926       False  2.805112\n",
       "3    Lorena    1.72    66  22.309356       False  3.105006"
      ]
     },
     "execution_count": 113,
     "metadata": {},
     "output_type": "execute_result"
    }
   ],
   "source": [
    "df.iloc[0,0] = np.nan # Eliminamos el primer nombre\n",
    "df.iloc[0,1] = np.nan # Eliminamos la primera altura\n",
    "df"
   ]
  },
  {
   "cell_type": "code",
   "execution_count": 114,
   "metadata": {},
   "outputs": [
    {
     "name": "stdout",
     "output_type": "stream",
     "text": [
      "Contaje de elementos de una columna que no son NaN: 3\n",
      "Suma de los valores de los elementos de una columna: 4.87\n",
      "Media de valores de los elementos de una columna: 1.6233333333333333\n",
      "Minimo de los valores de los elementos de una columna: 1.5\n",
      "Máximo de los valores de los elementos de una columna: 1.72\n",
      "Varianza de los valores de los elementos de una columna: 0.012633333333333328\n",
      "Desviación tipica de los valores de los elementos de una columna: 0.11239810200058241\n",
      "Covarianza de los valores de los elementos de una columna:\n",
      "            IMC        Peso\n",
      "IMC   41.032631   71.484661\n",
      "Peso  71.484661  224.250000\n",
      "\n",
      "Coeficiente de correlación de las variables de un dataframe:\n",
      "          Altura      Peso\n",
      "Altura  1.000000 -0.407902\n",
      "Peso   -0.407902  1.000000\n",
      "\n",
      "Resumen general de un dataframe:\n",
      "         Altura       Peso        IMC    logIMC\n",
      "count  3.000000   4.000000   4.000000  4.000000\n",
      "mean   1.623333  65.750000  23.882410  3.145577\n",
      "std    0.112398  14.974979   6.405672  0.273112\n",
      "min    1.500000  45.000000  16.528926  2.805112\n",
      "25%    1.575000  60.750000  20.864249  3.030033\n",
      "50%    1.650000  69.000000  23.500357  3.155730\n",
      "75%    1.685000  74.000000  26.518519  3.271274\n",
      "max    1.720000  80.000000  32.000000  3.465736\n"
     ]
    }
   ],
   "source": [
    "# Ejemplos de metodos usados sobre el dataframe 'df'\n",
    "print(f\"Contaje de elementos de una columna que no son NaN: {df[\"Nombre\"].count()}\")\n",
    "print(f\"Suma de los valores de los elementos de una columna: {df[\"Altura\"].sum()}\")\n",
    "print(f\"Media de valores de los elementos de una columna: {df[\"Altura\"].mean()}\")\n",
    "print(f\"Minimo de los valores de los elementos de una columna: {df[\"Altura\"].min()}\")\n",
    "print(f\"Máximo de los valores de los elementos de una columna: {df[\"Altura\"].max()}\")\n",
    "print(f\"Varianza de los valores de los elementos de una columna: {df[\"Altura\"].var()}\")\n",
    "print(f\"Desviación tipica de los valores de los elementos de una columna: {df[\"Altura\"].std()}\")\n",
    "print(f\"Covarianza de los valores de los elementos de una columna:\\n{df[[\"IMC\", \"Peso\"]].cov()}\\n\") # Para sacar la covarianza necesitamos dos valores\n",
    "print(f\"Coeficiente de correlación de las variables de un dataframe:\\n{df[[\"Altura\", \"Peso\"]].corr()}\\n\") # Para sacar el coeficiente de correlación necesitamos dos valores\n",
    "print(f\"Resumen general de un dataframe:\\n{df.describe()}\") # Devuelve el count, mean, std, min, percentiles (25%, 50%, 75%) y max. (min seria el percentil 0% y max el 100%)"
   ]
  },
  {
   "cell_type": "code",
   "execution_count": 115,
   "metadata": {},
   "outputs": [
    {
     "data": {
      "text/html": [
       "<div>\n",
       "<style scoped>\n",
       "    .dataframe tbody tr th:only-of-type {\n",
       "        vertical-align: middle;\n",
       "    }\n",
       "\n",
       "    .dataframe tbody tr th {\n",
       "        vertical-align: top;\n",
       "    }\n",
       "\n",
       "    .dataframe thead th {\n",
       "        text-align: right;\n",
       "    }\n",
       "</style>\n",
       "<table border=\"1\" class=\"dataframe\">\n",
       "  <thead>\n",
       "    <tr style=\"text-align: right;\">\n",
       "      <th></th>\n",
       "      <th>Nombre</th>\n",
       "      <th>Altura</th>\n",
       "      <th>Peso</th>\n",
       "      <th>IMC</th>\n",
       "      <th>Sobreperso</th>\n",
       "      <th>logIMC</th>\n",
       "      <th>AltPes</th>\n",
       "    </tr>\n",
       "  </thead>\n",
       "  <tbody>\n",
       "    <tr>\n",
       "      <th>0</th>\n",
       "      <td>NaN</td>\n",
       "      <td>NaN</td>\n",
       "      <td>80</td>\n",
       "      <td>24.691358</td>\n",
       "      <td>False</td>\n",
       "      <td>3.206453</td>\n",
       "      <td>NaN</td>\n",
       "    </tr>\n",
       "    <tr>\n",
       "      <th>1</th>\n",
       "      <td>Maria</td>\n",
       "      <td>1.50</td>\n",
       "      <td>72</td>\n",
       "      <td>32.000000</td>\n",
       "      <td>True</td>\n",
       "      <td>3.465736</td>\n",
       "      <td>73.50</td>\n",
       "    </tr>\n",
       "    <tr>\n",
       "      <th>2</th>\n",
       "      <td>Mercedes</td>\n",
       "      <td>1.65</td>\n",
       "      <td>45</td>\n",
       "      <td>16.528926</td>\n",
       "      <td>False</td>\n",
       "      <td>2.805112</td>\n",
       "      <td>46.65</td>\n",
       "    </tr>\n",
       "    <tr>\n",
       "      <th>3</th>\n",
       "      <td>Lorena</td>\n",
       "      <td>1.72</td>\n",
       "      <td>66</td>\n",
       "      <td>22.309356</td>\n",
       "      <td>False</td>\n",
       "      <td>3.105006</td>\n",
       "      <td>67.72</td>\n",
       "    </tr>\n",
       "  </tbody>\n",
       "</table>\n",
       "</div>"
      ],
      "text/plain": [
       "     Nombre  Altura  Peso        IMC  Sobreperso    logIMC  AltPes\n",
       "0       NaN     NaN    80  24.691358       False  3.206453     NaN\n",
       "1     Maria    1.50    72  32.000000        True  3.465736   73.50\n",
       "2  Mercedes    1.65    45  16.528926       False  2.805112   46.65\n",
       "3    Lorena    1.72    66  22.309356       False  3.105006   67.72"
      ]
     },
     "execution_count": 115,
     "metadata": {},
     "output_type": "execute_result"
    }
   ],
   "source": [
    "df[\"AltPes\"] = df[\"Altura\"] + df[\"Peso\"]  # Al operar se pueden dar casos que el resultado sea NaN\n",
    "df"
   ]
  },
  {
   "cell_type": "code",
   "execution_count": 116,
   "metadata": {},
   "outputs": [
    {
     "data": {
      "text/html": [
       "<div>\n",
       "<style scoped>\n",
       "    .dataframe tbody tr th:only-of-type {\n",
       "        vertical-align: middle;\n",
       "    }\n",
       "\n",
       "    .dataframe tbody tr th {\n",
       "        vertical-align: top;\n",
       "    }\n",
       "\n",
       "    .dataframe thead th {\n",
       "        text-align: right;\n",
       "    }\n",
       "</style>\n",
       "<table border=\"1\" class=\"dataframe\">\n",
       "  <thead>\n",
       "    <tr style=\"text-align: right;\">\n",
       "      <th></th>\n",
       "      <th>Nombre</th>\n",
       "      <th>Altura</th>\n",
       "      <th>Peso</th>\n",
       "      <th>IMC</th>\n",
       "      <th>Sobreperso</th>\n",
       "      <th>logIMC</th>\n",
       "    </tr>\n",
       "  </thead>\n",
       "  <tbody>\n",
       "    <tr>\n",
       "      <th>0</th>\n",
       "      <td>NaN</td>\n",
       "      <td>NaN</td>\n",
       "      <td>80</td>\n",
       "      <td>24.691358</td>\n",
       "      <td>False</td>\n",
       "      <td>3.206453</td>\n",
       "    </tr>\n",
       "    <tr>\n",
       "      <th>1</th>\n",
       "      <td>Maria</td>\n",
       "      <td>1.50</td>\n",
       "      <td>72</td>\n",
       "      <td>32.000000</td>\n",
       "      <td>True</td>\n",
       "      <td>3.465736</td>\n",
       "    </tr>\n",
       "    <tr>\n",
       "      <th>2</th>\n",
       "      <td>Mercedes</td>\n",
       "      <td>1.65</td>\n",
       "      <td>45</td>\n",
       "      <td>16.528926</td>\n",
       "      <td>False</td>\n",
       "      <td>2.805112</td>\n",
       "    </tr>\n",
       "    <tr>\n",
       "      <th>3</th>\n",
       "      <td>Lorena</td>\n",
       "      <td>1.72</td>\n",
       "      <td>66</td>\n",
       "      <td>22.309356</td>\n",
       "      <td>False</td>\n",
       "      <td>3.105006</td>\n",
       "    </tr>\n",
       "  </tbody>\n",
       "</table>\n",
       "</div>"
      ],
      "text/plain": [
       "     Nombre  Altura  Peso        IMC  Sobreperso    logIMC\n",
       "0       NaN     NaN    80  24.691358       False  3.206453\n",
       "1     Maria    1.50    72  32.000000        True  3.465736\n",
       "2  Mercedes    1.65    45  16.528926       False  2.805112\n",
       "3    Lorena    1.72    66  22.309356       False  3.105006"
      ]
     },
     "execution_count": 116,
     "metadata": {},
     "output_type": "execute_result"
    }
   ],
   "source": [
    "df.pop(\"AltPes\")  # Borra la columna\n",
    "# del df[\"AltPes\"]  df.pop() y del df[] hacen lo mismo\n",
    "df"
   ]
  },
  {
   "cell_type": "code",
   "execution_count": 117,
   "metadata": {},
   "outputs": [
    {
     "data": {
      "text/html": [
       "<div>\n",
       "<style scoped>\n",
       "    .dataframe tbody tr th:only-of-type {\n",
       "        vertical-align: middle;\n",
       "    }\n",
       "\n",
       "    .dataframe tbody tr th {\n",
       "        vertical-align: top;\n",
       "    }\n",
       "\n",
       "    .dataframe thead th {\n",
       "        text-align: right;\n",
       "    }\n",
       "</style>\n",
       "<table border=\"1\" class=\"dataframe\">\n",
       "  <thead>\n",
       "    <tr style=\"text-align: right;\">\n",
       "      <th></th>\n",
       "      <th>0</th>\n",
       "    </tr>\n",
       "  </thead>\n",
       "  <tbody>\n",
       "    <tr>\n",
       "      <th>0</th>\n",
       "      <td>Mario</td>\n",
       "    </tr>\n",
       "    <tr>\n",
       "      <th>1</th>\n",
       "      <td>1.73</td>\n",
       "    </tr>\n",
       "    <tr>\n",
       "      <th>2</th>\n",
       "      <td>66</td>\n",
       "    </tr>\n",
       "    <tr>\n",
       "      <th>3</th>\n",
       "      <td>NaN</td>\n",
       "    </tr>\n",
       "    <tr>\n",
       "      <th>4</th>\n",
       "      <td>False</td>\n",
       "    </tr>\n",
       "    <tr>\n",
       "      <th>5</th>\n",
       "      <td>NaN</td>\n",
       "    </tr>\n",
       "  </tbody>\n",
       "</table>\n",
       "</div>"
      ],
      "text/plain": [
       "       0\n",
       "0  Mario\n",
       "1   1.73\n",
       "2     66\n",
       "3    NaN\n",
       "4  False\n",
       "5    NaN"
      ]
     },
     "execution_count": 117,
     "metadata": {},
     "output_type": "execute_result"
    }
   ],
   "source": [
    "f4 = pd.Series([\"Mario\", 1.73, 66, np.nan, False, np.nan])  # Creamos una nueva serie 'f4'\n",
    "f4.to_frame() # Con el metodo to_frame(), convertimos la serie en un dataframe"
   ]
  },
  {
   "cell_type": "code",
   "execution_count": 118,
   "metadata": {},
   "outputs": [
    {
     "data": {
      "text/html": [
       "<div>\n",
       "<style scoped>\n",
       "    .dataframe tbody tr th:only-of-type {\n",
       "        vertical-align: middle;\n",
       "    }\n",
       "\n",
       "    .dataframe tbody tr th {\n",
       "        vertical-align: top;\n",
       "    }\n",
       "\n",
       "    .dataframe thead th {\n",
       "        text-align: right;\n",
       "    }\n",
       "</style>\n",
       "<table border=\"1\" class=\"dataframe\">\n",
       "  <thead>\n",
       "    <tr style=\"text-align: right;\">\n",
       "      <th></th>\n",
       "      <th>0</th>\n",
       "      <th>1</th>\n",
       "      <th>2</th>\n",
       "      <th>3</th>\n",
       "      <th>4</th>\n",
       "      <th>5</th>\n",
       "    </tr>\n",
       "  </thead>\n",
       "  <tbody>\n",
       "    <tr>\n",
       "      <th>0</th>\n",
       "      <td>Mario</td>\n",
       "      <td>1.73</td>\n",
       "      <td>66</td>\n",
       "      <td>NaN</td>\n",
       "      <td>False</td>\n",
       "      <td>NaN</td>\n",
       "    </tr>\n",
       "  </tbody>\n",
       "</table>\n",
       "</div>"
      ],
      "text/plain": [
       "       0     1   2    3      4    5\n",
       "0  Mario  1.73  66  NaN  False  NaN"
      ]
     },
     "execution_count": 118,
     "metadata": {},
     "output_type": "execute_result"
    }
   ],
   "source": [
    "f4.to_frame().T # Dataframe f4 transpuesto"
   ]
  },
  {
   "cell_type": "code",
   "execution_count": 123,
   "metadata": {},
   "outputs": [
    {
     "data": {
      "text/plain": [
       "Index([0, 1, 2, 3], dtype='int64')"
      ]
     },
     "execution_count": 123,
     "metadata": {},
     "output_type": "execute_result"
    }
   ],
   "source": [
    "df.columns = [0, 1, 2, 3, 4, 5]\n",
    "df.index"
   ]
  },
  {
   "cell_type": "markdown",
   "metadata": {},
   "source": [
    "# Conceptos avanzados de pandas"
   ]
  },
  {
   "cell_type": "code",
   "execution_count": 124,
   "metadata": {},
   "outputs": [
    {
     "ename": "SyntaxError",
     "evalue": "invalid syntax. Maybe you meant '==' or ':=' instead of '='? (152903674.py, line 1)",
     "output_type": "error",
     "traceback": [
      "\u001b[1;36m  Cell \u001b[1;32mIn[124], line 1\u001b[1;36m\u001b[0m\n\u001b[1;33m    pd.concat([df, f4.to_frame().T]), ignore_index = True\u001b[0m\n\u001b[1;37m                                      ^\u001b[0m\n\u001b[1;31mSyntaxError\u001b[0m\u001b[1;31m:\u001b[0m invalid syntax. Maybe you meant '==' or ':=' instead of '='?\n"
     ]
    }
   ],
   "source": [
    "pd.concat([df, f4.to_frame().T]), ignore_index = True"
   ]
  }
 ],
 "metadata": {
  "kernelspec": {
   "display_name": "Python 3",
   "language": "python",
   "name": "python3"
  },
  "language_info": {
   "codemirror_mode": {
    "name": "ipython",
    "version": 3
   },
   "file_extension": ".py",
   "mimetype": "text/x-python",
   "name": "python",
   "nbconvert_exporter": "python",
   "pygments_lexer": "ipython3",
   "version": "3.12.4"
  }
 },
 "nbformat": 4,
 "nbformat_minor": 2
}
